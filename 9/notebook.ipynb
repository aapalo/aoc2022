{
 "cells": [
  {
   "cell_type": "code",
   "execution_count": 1,
   "id": "0959b566-c31a-4cf9-aa16-da1d71f21a52",
   "metadata": {},
   "outputs": [],
   "source": [
    "#!/usr/bin/python3"
   ]
  },
  {
   "cell_type": "code",
   "execution_count": 2,
   "id": "cb88d538-8fc9-46c7-8140-4675c3a6ceb1",
   "metadata": {},
   "outputs": [],
   "source": [
    "#from collections import Counter\n",
    "#import re\n",
    "#import os\n",
    "import time\n",
    "from collections import defaultdict\n",
    "#from collections import deque"
   ]
  },
  {
   "cell_type": "code",
   "execution_count": 3,
   "id": "f55b7992-aa00-49bd-8321-64bbd778e15e",
   "metadata": {},
   "outputs": [
    {
     "name": "stdout",
     "output_type": "stream",
     "text": [
      "https://adventofcode.com/2022/day/9\n"
     ]
    }
   ],
   "source": [
    "date = 9\n",
    "dev = 0 # extra prints\n",
    "part = 3 # 1,2, or 3 for both\n",
    "# 0 or 1:\n",
    "samp = 0\n",
    "print(\"https://adventofcode.com/2022/day/{}\".format(date))"
   ]
  },
  {
   "cell_type": "markdown",
   "id": "88404eb8-4034-4bdd-9dae-86e31d39efba",
   "metadata": {
    "tags": []
   },
   "source": [
    "## Read the input data "
   ]
  },
  {
   "cell_type": "code",
   "execution_count": 4,
   "id": "95c6dda8-9ebf-4edc-bfc1-078ba6b51e32",
   "metadata": {},
   "outputs": [
    {
     "name": "stdout",
     "output_type": "stream",
     "text": [
      "2000\n"
     ]
    }
   ],
   "source": [
    "#time0 = time.time()\n",
    "\n",
    "if samp == 1:\n",
    "    filename = \"/sample.txt\"\n",
    "else:\n",
    "    filename = \"/input.txt\"\n",
    "try:\n",
    "    with open(str(date) + filename,\"r\") as f:\n",
    "        t = f.readlines()\n",
    "except FileNotFoundError:\n",
    "    with open(\".\" + filename,\"r\") as f:\n",
    "        t = f.readlines()\n",
    "\n",
    "t = [(x.strip().replace('  ',' ')) for x in t]\n",
    "#t = [int(x) for x in t]\n",
    "print(len(t))"
   ]
  },
  {
   "cell_type": "markdown",
   "id": "e4a219ce-1941-48f2-9b11-4717581c82c9",
   "metadata": {},
   "source": [
    "## Part one"
   ]
  },
  {
   "cell_type": "code",
   "execution_count": 5,
   "id": "9676ebb6-f9f9-42d2-8ce2-ba650df1d45a",
   "metadata": {},
   "outputs": [],
   "source": [
    "# in: head coords, tail coords, direction (dx,dy)\n",
    "# out: tail new coords\n",
    "def get_new_coords(hx,hy, tx,ty, dx,dy):\n",
    "    nx = tx\n",
    "    ny = ty\n",
    "    if (abs(hy - ty) + abs(hx - tx)) >= 3:\n",
    "        # H&T not touching, and different row/col\n",
    "        #nx = hx - dx\n",
    "        #ny = hy - dy\n",
    "        if hy > ty:\n",
    "            ny += 1\n",
    "        elif hy < ty:\n",
    "            ny -= 1\n",
    "        if hx > tx:\n",
    "            nx += 1\n",
    "        elif hx < tx:\n",
    "            nx -= 1\n",
    "    elif hy > ty + 1:\n",
    "        ny += 1\n",
    "    elif hy < ty - 1:\n",
    "        ny -= 1\n",
    "    elif hx > tx + 1:\n",
    "        nx += 1\n",
    "    elif hx < tx - 1:\n",
    "        nx -= 1\n",
    "    return [nx,ny]\n",
    "    \n",
    "#print(get_new_coords(2,1, 0,0, 0,1), \".. 1,1\")\n",
    "#print(get_new_coords(2,-1, 0,0, 0,1), \".. 1,-1\")\n",
    "#print(get_new_coords(-2,1, 0,0, 0,1), \".. -1,1\")"
   ]
  },
  {
   "cell_type": "code",
   "execution_count": 6,
   "id": "72b8f11d-18f0-4f2e-9438-75aff4b78bc1",
   "metadata": {
    "tags": []
   },
   "outputs": [
    {
     "data": {
      "text/plain": [
       "[6256, 2665]"
      ]
     },
     "execution_count": 6,
     "metadata": {},
     "output_type": "execute_result"
    }
   ],
   "source": [
    "def part_one(te):\n",
    "    [hx,hy] = [0,0] #head\n",
    "    #[tx,ty] = [0,0] #tail\n",
    "    tvis1 = set() # coords visited by tail 1\n",
    "    tvis2 = set()\n",
    "    tvis2.add(tuple([0,0]))\n",
    "    kts = defaultdict(list)\n",
    "    for k in range(9):\n",
    "        kts[k] = [0,0]\n",
    "    for r in te:\n",
    "        r = r.split(\" \")\n",
    "        d = r[0]\n",
    "        s = int(r[1])\n",
    "        if d == \"R\":\n",
    "            [dx,dy] = [1,0]\n",
    "        elif d == \"L\":\n",
    "            [dx,dy] = [-1,0]\n",
    "        elif d == \"U\":\n",
    "            [dx,dy] = [0,1]\n",
    "        elif d == \"D\":\n",
    "            [dx,dy] = [0,-1]\n",
    "        #print(d, [dx,dy], s)\n",
    "        \n",
    "        for i in range(s):\n",
    "            # head:\n",
    "            hx += dx\n",
    "            hy += dy\n",
    "            # knots:\n",
    "            for k in range(9):\n",
    "                if k == 0:\n",
    "                    kts[k] = get_new_coords(hx, hy, kts[k][0], kts[k][1], dx, dy)\n",
    "                    tvis1.add(tuple([kts[k][0],kts[k][1]]))\n",
    "                else:\n",
    "                    [tx,ty] = kts[k][0], kts[k][1]\n",
    "                    kts[k] = get_new_coords(kts[k-1][0], kts[k-1][1], tx,ty, dx,dy)\n",
    "                    #print(k, \"old: \", tx,ty, \" new: \", kts[k][0], kts[k][1], \" same? \", [tx,ty] == [kts[k][0], kts[k][1]])\n",
    "                    if k == 8:\n",
    "                        tvis2.add(tuple([kts[k][0],kts[k][1]]))\n",
    "                    if [tx,ty] == [kts[k][0], kts[k][1]]:\n",
    "                        break\n",
    "                \n",
    "        #print(k, hx, hy, tuple([kts[k][0],kts[k][1]]))\n",
    "        if samp and 1:\n",
    "            ms = 40\n",
    "            m = defaultdict(dict)\n",
    "            for y in range(ms):\n",
    "                #m[y] = defaultdict(lambda: \".\")\n",
    "                m[y] = [\".\"] * ms\n",
    "            for k in kts.keys():\n",
    "                #print(kts[k], kts[k][0])\n",
    "                try:\n",
    "                    m[kts[k][1]][kts[k][0]] = str(k)\n",
    "                except:\n",
    "                    print(\"ERROR: \", k, kts[k])\n",
    "            m[0][0] = \"s\"\n",
    "            m[hy][hx] = \"H\"\n",
    "            #print(tvis1)\n",
    "            #print(tvis2)\n",
    "            print(r)\n",
    "            for y in range(ms-1,-10,-1):\n",
    "                ps = \"\"\n",
    "                for x in range(-20,20):#m[y]:\n",
    "                    try:\n",
    "                        ps += m[y][x]\n",
    "                    except KeyError:\n",
    "                        ps += \".\"\n",
    "                print(ps)\n",
    "                #print(str(m[y]))\n",
    "            if r == ['L', '3']:\n",
    "                pass #break\n",
    "        #break\n",
    "            #print(\"head: \", [hx,hy], \" tail: \", [tx,ty])\n",
    "        \n",
    "    return [len(tvis1),len(tvis2)]\n",
    "part_one(t)"
   ]
  },
  {
   "cell_type": "markdown",
   "id": "99b4800a-d2b1-4fb8-a6fb-af8b8d5f80cb",
   "metadata": {},
   "source": [
    "## Part two"
   ]
  },
  {
   "cell_type": "code",
   "execution_count": 7,
   "id": "574b9b37-6aa3-4fe9-b6f2-9da55c177ab7",
   "metadata": {},
   "outputs": [],
   "source": [
    "def part_two(t):\n",
    "    return \"See above\""
   ]
  },
  {
   "cell_type": "markdown",
   "id": "52366ae7-ceec-409e-b637-0e61036c962f",
   "metadata": {},
   "source": [
    "## Run the programs"
   ]
  },
  {
   "cell_type": "code",
   "execution_count": 8,
   "id": "e7c79c46-6c97-4a27-92c3-cf2c5a54a320",
   "metadata": {},
   "outputs": [
    {
     "name": "stdout",
     "output_type": "stream",
     "text": [
      "Part 1:  [6256, 2665]\n",
      "Part 2:  See above\n",
      "Elapsed time: 0.0866 s\n"
     ]
    }
   ],
   "source": [
    "if 1:\n",
    "    time0 = time.time()\n",
    "    if part == 1:\n",
    "        print(\"Part 1: \", part_one(t))\n",
    "    elif part == 2:\n",
    "        print(\"Part 2: \", part_two(t))\n",
    "    elif part == 3:\n",
    "        #run both\n",
    "        print(\"Part 1: \", part_one(t))\n",
    "        print(\"Part 2: \", part_two(t))\n",
    "    tdif = time.time() - time0\n",
    "    print(\"Elapsed time: {:.4f} s\".format(tdif))"
   ]
  }
 ],
 "metadata": {
  "kernelspec": {
   "display_name": "Python 3 (ipykernel)",
   "language": "python",
   "name": "python3"
  },
  "language_info": {
   "codemirror_mode": {
    "name": "ipython",
    "version": 3
   },
   "file_extension": ".py",
   "mimetype": "text/x-python",
   "name": "python",
   "nbconvert_exporter": "python",
   "pygments_lexer": "ipython3",
   "version": "3.9.2"
  }
 },
 "nbformat": 4,
 "nbformat_minor": 5
}
