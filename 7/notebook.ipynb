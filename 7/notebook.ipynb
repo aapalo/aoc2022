{
 "cells": [
  {
   "cell_type": "code",
   "execution_count": 1,
   "id": "0959b566-c31a-4cf9-aa16-da1d71f21a52",
   "metadata": {},
   "outputs": [],
   "source": [
    "#!/usr/bin/python3"
   ]
  },
  {
   "cell_type": "code",
   "execution_count": 2,
   "id": "cb88d538-8fc9-46c7-8140-4675c3a6ceb1",
   "metadata": {},
   "outputs": [],
   "source": [
    "#from collections import Counter\n",
    "#import re\n",
    "#import os\n",
    "import time\n",
    "from collections import defaultdict\n",
    "#from collections import deque"
   ]
  },
  {
   "cell_type": "code",
   "execution_count": 3,
   "id": "f55b7992-aa00-49bd-8321-64bbd778e15e",
   "metadata": {},
   "outputs": [
    {
     "name": "stdout",
     "output_type": "stream",
     "text": [
      "https://adventofcode.com/2022/day/7\n"
     ]
    }
   ],
   "source": [
    "date = 7\n",
    "dev = 0 # extra prints\n",
    "part = 3 # 1,2, or 3 for both\n",
    "# 0 or 1:\n",
    "samp = 0\n",
    "print(\"https://adventofcode.com/2022/day/{}\".format(date))"
   ]
  },
  {
   "cell_type": "markdown",
   "id": "88404eb8-4034-4bdd-9dae-86e31d39efba",
   "metadata": {
    "tags": []
   },
   "source": [
    "## Read the input data "
   ]
  },
  {
   "cell_type": "code",
   "execution_count": 4,
   "id": "95c6dda8-9ebf-4edc-bfc1-078ba6b51e32",
   "metadata": {},
   "outputs": [
    {
     "name": "stdout",
     "output_type": "stream",
     "text": [
      "1015\n"
     ]
    }
   ],
   "source": [
    "if samp == 1:\n",
    "    filename = \"/sample.txt\"\n",
    "else:\n",
    "    filename = \"/input.txt\"\n",
    "try:\n",
    "    with open(str(date) + filename,\"r\") as f:\n",
    "        t = f.readlines()\n",
    "except FileNotFoundError:\n",
    "    with open(\".\" + filename,\"r\") as f:\n",
    "        t = f.readlines()\n",
    "\n",
    "t = [(x.strip().replace('  ',' ')) for x in t]\n",
    "#t = [int(x) for x in t]\n",
    "print(len(t))"
   ]
  },
  {
   "cell_type": "markdown",
   "id": "e4a219ce-1941-48f2-9b11-4717581c82c9",
   "metadata": {},
   "source": [
    "## Part one"
   ]
  },
  {
   "cell_type": "code",
   "execution_count": 5,
   "id": "72b8f11d-18f0-4f2e-9438-75aff4b78bc1",
   "metadata": {
    "tags": []
   },
   "outputs": [
    {
     "data": {
      "text/plain": [
       "[1648397, 1815525]"
      ]
     },
     "execution_count": 5,
     "metadata": {},
     "output_type": "execute_result"
    }
   ],
   "source": [
    "def part_one(te):\n",
    "    curdir = []\n",
    "    f = defaultdict(int)\n",
    "    folders = set()\n",
    "    folders.add('/')\n",
    "    for r in te:\n",
    "        #print(\"Current dir: \", curdir)\n",
    "        r = r.split(\" \")\n",
    "        if r[0] == '$':\n",
    "            #print(\"$\", r[1:])\n",
    "            if r[1] == 'ls':\n",
    "                continue\n",
    "            elif r[1] == 'cd':\n",
    "                if r[2] == '..':\n",
    "                    try:\n",
    "                        curdir.pop()\n",
    "                        continue\n",
    "                    except IndexError:\n",
    "                        curdir = ['/']\n",
    "                else:\n",
    "                    curdir.append(r[2])\n",
    "        else:\n",
    "            if r[0] != \"dir\":\n",
    "                fs = int(r[0])\n",
    "                fn = r[1]\n",
    "                #print(\"not dir: \", fs, fn, tuple(curdir))\n",
    "                # add the filesize to the parent paths, eg /, /a/, /a/e\n",
    "                for c in range(len(curdir)):\n",
    "                    f[tuple(curdir[:(c+1)])] += fs\n",
    "                    #print(tuple(curdir[:(c+1)]))\n",
    "    # Part one:\n",
    "    ans = 0\n",
    "    for k in f.keys():\n",
    "        fsize = f[k]\n",
    "        #print(k, fsize)\n",
    "        if fsize <= 100000:\n",
    "            ans += fsize\n",
    "    \n",
    "    # Part two:\n",
    "    # find the smallest folder to delete so that unused space is at least 30000000\n",
    "    unused = 70000000 - f[tuple(['/'])]\n",
    "    dels = set()\n",
    "    for k in f.keys():\n",
    "        if unused + f[k] >= 30000000:\n",
    "            dels.add(f[k])\n",
    "    if samp:\n",
    "        print(dels)\n",
    "    ans2 = min(dels)\n",
    "    \n",
    "    return [ans, ans2]\n",
    "part_one(t)"
   ]
  },
  {
   "cell_type": "markdown",
   "id": "99b4800a-d2b1-4fb8-a6fb-af8b8d5f80cb",
   "metadata": {},
   "source": [
    "## Part two"
   ]
  },
  {
   "cell_type": "code",
   "execution_count": null,
   "id": "aa19182a-5969-4229-9b5c-8630a4e51d53",
   "metadata": {
    "tags": []
   },
   "outputs": [],
   "source": []
  },
  {
   "cell_type": "markdown",
   "id": "52366ae7-ceec-409e-b637-0e61036c962f",
   "metadata": {},
   "source": [
    "## Run the programs"
   ]
  },
  {
   "cell_type": "code",
   "execution_count": 6,
   "id": "e7c79c46-6c97-4a27-92c3-cf2c5a54a320",
   "metadata": {},
   "outputs": [
    {
     "name": "stdout",
     "output_type": "stream",
     "text": [
      "Part 1, Part2:  [1648397, 1815525]\n",
      "Elapsed time: 0.0026 s\n"
     ]
    }
   ],
   "source": [
    "if 1:\n",
    "    time0 = time.time()\n",
    "    print(\"Part 1, Part2: \", part_one(t))\n",
    "    tdif = time.time() - time0\n",
    "    print(\"Elapsed time: {:.4f} s\".format(tdif))"
   ]
  }
 ],
 "metadata": {
  "kernelspec": {
   "display_name": "Python 3 (ipykernel)",
   "language": "python",
   "name": "python3"
  },
  "language_info": {
   "codemirror_mode": {
    "name": "ipython",
    "version": 3
   },
   "file_extension": ".py",
   "mimetype": "text/x-python",
   "name": "python",
   "nbconvert_exporter": "python",
   "pygments_lexer": "ipython3",
   "version": "3.9.2"
  }
 },
 "nbformat": 4,
 "nbformat_minor": 5
}
