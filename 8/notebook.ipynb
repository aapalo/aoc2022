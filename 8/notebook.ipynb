{
 "cells": [
  {
   "cell_type": "code",
   "execution_count": 1,
   "id": "0959b566-c31a-4cf9-aa16-da1d71f21a52",
   "metadata": {},
   "outputs": [],
   "source": [
    "#!/usr/bin/python3"
   ]
  },
  {
   "cell_type": "code",
   "execution_count": 2,
   "id": "cb88d538-8fc9-46c7-8140-4675c3a6ceb1",
   "metadata": {},
   "outputs": [],
   "source": [
    "#from collections import Counter\n",
    "#import re\n",
    "#import os\n",
    "import time\n",
    "from collections import defaultdict\n",
    "#from collections import deque"
   ]
  },
  {
   "cell_type": "code",
   "execution_count": 3,
   "id": "f55b7992-aa00-49bd-8321-64bbd778e15e",
   "metadata": {},
   "outputs": [
    {
     "name": "stdout",
     "output_type": "stream",
     "text": [
      "https://adventofcode.com/2022/day/8\n"
     ]
    }
   ],
   "source": [
    "date = 8\n",
    "dev = 0 # extra prints\n",
    "part = 3 # 1,2, or 3 for both\n",
    "# 0 or 1:\n",
    "samp = 0\n",
    "print(\"https://adventofcode.com/2022/day/{}\".format(date))"
   ]
  },
  {
   "cell_type": "markdown",
   "id": "88404eb8-4034-4bdd-9dae-86e31d39efba",
   "metadata": {
    "tags": []
   },
   "source": [
    "## Read the input data "
   ]
  },
  {
   "cell_type": "code",
   "execution_count": 4,
   "id": "95c6dda8-9ebf-4edc-bfc1-078ba6b51e32",
   "metadata": {},
   "outputs": [
    {
     "name": "stdout",
     "output_type": "stream",
     "text": [
      "99\n"
     ]
    }
   ],
   "source": [
    "#time0 = time.time()\n",
    "\n",
    "if samp == 1:\n",
    "    filename = \"/sample.txt\"\n",
    "else:\n",
    "    filename = \"/input.txt\"\n",
    "try:\n",
    "    with open(str(date) + filename,\"r\") as f:\n",
    "        t = f.readlines()\n",
    "except FileNotFoundError:\n",
    "    with open(\".\" + filename,\"r\") as f:\n",
    "        t = f.readlines()\n",
    "\n",
    "t = [(x.strip().replace('  ',' ')) for x in t]\n",
    "#t = [int(x) for x in t]\n",
    "print(len(t))"
   ]
  },
  {
   "cell_type": "markdown",
   "id": "e4a219ce-1941-48f2-9b11-4717581c82c9",
   "metadata": {},
   "source": [
    "## Part one"
   ]
  },
  {
   "cell_type": "code",
   "execution_count": 5,
   "id": "9676ebb6-f9f9-42d2-8ce2-ba650df1d45a",
   "metadata": {},
   "outputs": [],
   "source": [
    "# how many directions are blocked: 4 all blocked, 0 none blocked\n",
    "def is_not_visible(x,y,forest):\n",
    "    notvis = 0\n",
    "    tree = forest[y][x]\n",
    "    # right\n",
    "    try:\n",
    "        if max(forest[y][(x+1):]) >= tree:\n",
    "            notvis += 1\n",
    "    except:\n",
    "        pass\n",
    "    # left\n",
    "    try:\n",
    "        if max(forest[y][:x]) >= tree:\n",
    "            notvis += 1\n",
    "    except:\n",
    "        pass\n",
    "    \n",
    "    # up\n",
    "    for r in range(y+1,len(forest)):\n",
    "        if forest[r][x] >= tree:\n",
    "            notvis += 1\n",
    "            break\n",
    "    # down\n",
    "    for r in range(0,y):\n",
    "        if forest[r][x] >= tree:\n",
    "            notvis += 1\n",
    "            break\n",
    "    return notvis"
   ]
  },
  {
   "cell_type": "code",
   "execution_count": 6,
   "id": "72b8f11d-18f0-4f2e-9438-75aff4b78bc1",
   "metadata": {
    "tags": []
   },
   "outputs": [
    {
     "data": {
      "text/plain": [
       "1870"
      ]
     },
     "execution_count": 6,
     "metadata": {},
     "output_type": "execute_result"
    }
   ],
   "source": [
    "def part_one(te):\n",
    "    rowc = len(te) #row count\n",
    "    colc = len(te[0]) #col count\n",
    "    vistrees = 0\n",
    "    i = 0\n",
    "    if samp:\n",
    "        for r in range(rowc):\n",
    "            print(te[r])\n",
    "        print(\"---\")\n",
    "    #print(is_visible(3,3,te))\n",
    "    for r in range(rowc):\n",
    "        vis = \"\"\n",
    "        #print(te[r])\n",
    "        for c in range(colc):\n",
    "            i += 1\n",
    "            isvis = is_not_visible(c,r,te)\n",
    "            #print(i, [c,r], te[r][c], is_visible(c,r,te))\n",
    "            if isvis < 4:\n",
    "                vistrees += 1\n",
    "            if samp:\n",
    "                #vis += str(1 if isvis<4 else 0)\n",
    "                vis += str(4-isvis)\n",
    "        if samp: \n",
    "            print(vis)\n",
    "    return vistrees\n",
    "part_one(t)"
   ]
  },
  {
   "cell_type": "markdown",
   "id": "99b4800a-d2b1-4fb8-a6fb-af8b8d5f80cb",
   "metadata": {},
   "source": [
    "## Part two"
   ]
  },
  {
   "cell_type": "code",
   "execution_count": 7,
   "id": "574b9b37-6aa3-4fe9-b6f2-9da55c177ab7",
   "metadata": {},
   "outputs": [],
   "source": [
    "def calc_scenic(x,y,forest):\n",
    "    pts = [0,0,0,0]\n",
    "    tree = forest[y][x]\n",
    "    dirs = [[0,1],[0,-1],[-1,0],[1,0]] # Up, Down, Left, Right\n",
    "    for i in range(4):\n",
    "        [dx, dy] = dirs[i]\n",
    "        nx = x\n",
    "        ny = y\n",
    "        while 1:\n",
    "            nx += dx\n",
    "            ny += dy\n",
    "            if ny in [-1,len(forest)] or nx in [-1, len(forest[0])]:\n",
    "                break\n",
    "            #print([nx,ny], forest[ny][nx], tree)\n",
    "            if forest[ny][nx] >= tree:\n",
    "                pts[i] += 1\n",
    "                break\n",
    "            else:\n",
    "                pts[i] += 1\n",
    "            \n",
    "        #print(i, dx, dy, pts[i])\n",
    "    #print(pts)\n",
    "    return pts[0]*pts[1]*pts[2]*pts[3]\n",
    "\n",
    "#calc_scenic(3,2,t)"
   ]
  },
  {
   "cell_type": "code",
   "execution_count": 8,
   "id": "aa19182a-5969-4229-9b5c-8630a4e51d53",
   "metadata": {
    "tags": []
   },
   "outputs": [
    {
     "data": {
      "text/plain": [
       "517440"
      ]
     },
     "execution_count": 8,
     "metadata": {},
     "output_type": "execute_result"
    }
   ],
   "source": [
    "def part_two(te):\n",
    "    rowc = len(te) #row count\n",
    "    colc = len(te[0]) #col count\n",
    "    sp = defaultdict(list)\n",
    "    for r in range(rowc):\n",
    "        sp[r] = defaultdict(int)\n",
    "    vistrees = 0\n",
    "    if samp:\n",
    "        for r in range(rowc):\n",
    "            print(te[r])\n",
    "        print(\"---\")\n",
    "    for r in range(rowc):\n",
    "        #print(te[r])\n",
    "        for c in range(colc):\n",
    "            sp[r][c] = calc_scenic(c,r,t)\n",
    "    ans = 0\n",
    "    for k in sp.keys():\n",
    "        maxval = max(sp[k].values())\n",
    "        if maxval > ans:\n",
    "            ans = maxval\n",
    "        #print(sp[k].values(), maxval, ans)\n",
    "    \n",
    "    return ans\n",
    "\n",
    "part_two(t)"
   ]
  },
  {
   "cell_type": "markdown",
   "id": "52366ae7-ceec-409e-b637-0e61036c962f",
   "metadata": {},
   "source": [
    "## Run the programs"
   ]
  },
  {
   "cell_type": "code",
   "execution_count": 9,
   "id": "e7c79c46-6c97-4a27-92c3-cf2c5a54a320",
   "metadata": {},
   "outputs": [
    {
     "name": "stdout",
     "output_type": "stream",
     "text": [
      "Part 1:  1870\n",
      "Part 2:  517440\n",
      "Elapsed time: 0.1189 s\n"
     ]
    }
   ],
   "source": [
    "if 1:\n",
    "    time0 = time.time()\n",
    "    if part == 1:\n",
    "        print(\"Part 1: \", part_one(t))\n",
    "    elif part == 2:\n",
    "        print(\"Part 2: \", part_two(t))\n",
    "    elif part == 3:\n",
    "        #run both\n",
    "        print(\"Part 1: \", part_one(t))\n",
    "        print(\"Part 2: \", part_two(t))\n",
    "    tdif = time.time() - time0\n",
    "    print(\"Elapsed time: {:.4f} s\".format(tdif))"
   ]
  }
 ],
 "metadata": {
  "kernelspec": {
   "display_name": "Python 3 (ipykernel)",
   "language": "python",
   "name": "python3"
  },
  "language_info": {
   "codemirror_mode": {
    "name": "ipython",
    "version": 3
   },
   "file_extension": ".py",
   "mimetype": "text/x-python",
   "name": "python",
   "nbconvert_exporter": "python",
   "pygments_lexer": "ipython3",
   "version": "3.9.2"
  }
 },
 "nbformat": 4,
 "nbformat_minor": 5
}
