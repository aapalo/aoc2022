{
 "cells": [
  {
   "cell_type": "code",
   "execution_count": 1,
   "id": "0959b566-c31a-4cf9-aa16-da1d71f21a52",
   "metadata": {},
   "outputs": [],
   "source": [
    "#!/usr/bin/python3"
   ]
  },
  {
   "cell_type": "code",
   "execution_count": 2,
   "id": "cb88d538-8fc9-46c7-8140-4675c3a6ceb1",
   "metadata": {},
   "outputs": [],
   "source": [
    "#from collections import Counter\n",
    "#import re\n",
    "#import os\n",
    "import time\n",
    "#from collections import defaultdict\n",
    "#from collections import deque"
   ]
  },
  {
   "cell_type": "code",
   "execution_count": 3,
   "id": "f55b7992-aa00-49bd-8321-64bbd778e15e",
   "metadata": {},
   "outputs": [
    {
     "name": "stdout",
     "output_type": "stream",
     "text": [
      "https://adventofcode.com/2022/day/10\n"
     ]
    }
   ],
   "source": [
    "date = 10\n",
    "dev = 0 # extra prints\n",
    "part = 3 # 1,2, or 3 for both\n",
    "# 0 or 1:\n",
    "samp = 0\n",
    "print(\"https://adventofcode.com/2022/day/{}\".format(date))"
   ]
  },
  {
   "cell_type": "markdown",
   "id": "88404eb8-4034-4bdd-9dae-86e31d39efba",
   "metadata": {
    "tags": []
   },
   "source": [
    "## Read the input data "
   ]
  },
  {
   "cell_type": "code",
   "execution_count": 4,
   "id": "95c6dda8-9ebf-4edc-bfc1-078ba6b51e32",
   "metadata": {},
   "outputs": [
    {
     "name": "stdout",
     "output_type": "stream",
     "text": [
      "142\n"
     ]
    }
   ],
   "source": [
    "#time0 = time.time()\n",
    "\n",
    "if samp == 1:\n",
    "    filename = \"/sample.txt\"\n",
    "else:\n",
    "    filename = \"/input.txt\"\n",
    "try:\n",
    "    with open(str(date) + filename,\"r\") as f:\n",
    "        t = f.readlines()\n",
    "except FileNotFoundError:\n",
    "    with open(\".\" + filename,\"r\") as f:\n",
    "        t = f.readlines()\n",
    "\n",
    "t = [(x.strip().replace('  ',' ')) for x in t]\n",
    "#t = [int(x) for x in t]\n",
    "print(len(t))"
   ]
  },
  {
   "cell_type": "markdown",
   "id": "e4a219ce-1941-48f2-9b11-4717581c82c9",
   "metadata": {},
   "source": [
    "## Part one"
   ]
  },
  {
   "cell_type": "code",
   "execution_count": 5,
   "id": "72b8f11d-18f0-4f2e-9438-75aff4b78bc1",
   "metadata": {
    "tags": []
   },
   "outputs": [
    {
     "data": {
      "text/plain": [
       "15880"
      ]
     },
     "execution_count": 5,
     "metadata": {},
     "output_type": "execute_result"
    }
   ],
   "source": [
    "def part_one(te):\n",
    "    cycle = 0\n",
    "    x = 1\n",
    "    iss = [20, 60, 100, 140, 180, 220]\n",
    "    signal = 0\n",
    "    for r in te:\n",
    "        r = r.split(\" \")\n",
    "        if r[0] == \"noop\":\n",
    "            cycle += 1\n",
    "            if cycle in iss:\n",
    "                signal += cycle*x\n",
    "                #print(\"Interesting 1: \", cycle, x, signal, cycle*x)\n",
    "        else:\n",
    "            cycle += 1\n",
    "            if cycle in iss:\n",
    "                signal += cycle*x\n",
    "                #print(\"Interesting 2: \", cycle, x, signal, cycle*x)\n",
    "            cycle += 1\n",
    "            if cycle in iss:\n",
    "                signal += cycle*x\n",
    "                #print(\"Interesting 3: \", cycle, x, signal, cycle*x)\n",
    "            x += int(r[1])\n",
    "        if samp and 0:\n",
    "            print(cycle, x, signal, r)\n",
    "        \n",
    "        if cycle > 230:\n",
    "            break\n",
    "    return signal\n",
    "part_one(t)"
   ]
  },
  {
   "cell_type": "markdown",
   "id": "99b4800a-d2b1-4fb8-a6fb-af8b8d5f80cb",
   "metadata": {},
   "source": [
    "## Part two"
   ]
  },
  {
   "cell_type": "code",
   "execution_count": 6,
   "id": "aa19182a-5969-4229-9b5c-8630a4e51d53",
   "metadata": {
    "tags": []
   },
   "outputs": [
    {
     "name": "stdout",
     "output_type": "stream",
     "text": [
      "###  #     ##  #### #  #  ##  ####  ##  \n",
      "#  # #    #  # #    # #  #  #    # #  # \n",
      "#  # #    #    ###  ##   #  #   #  #    \n",
      "###  #    # ## #    # #  ####  #   # ## \n",
      "#    #    #  # #    # #  #  # #    #  # \n",
      "#    ####  ### #    #  # #  # ####  ### \n"
     ]
    },
    {
     "data": {
      "text/plain": [
       "(15880, 'PLGFKAZG')"
      ]
     },
     "execution_count": 6,
     "metadata": {},
     "output_type": "execute_result"
    }
   ],
   "source": [
    "def part_two(te):\n",
    "    xvals = [1]\n",
    "    \n",
    "    # append the x value to a list (xvals), index is the cycle number\n",
    "    for r in te:\n",
    "        r = r.split(\" \")\n",
    "        if r[0] == \"noop\":\n",
    "            xvals.append(xvals[-1]) #no change\n",
    "        else:\n",
    "            xvals.append(xvals[-1]) #no change\n",
    "            xvals.append(xvals[-1] + int(r[1])) #change x\n",
    "        #if 210 < len(xvals) and len(xvals) < 225:\n",
    "        #    print(len(xvals), xvals[-1])\n",
    "    #print(xvals[210:225])\n",
    "    \n",
    "    # Part one:\n",
    "    # calculate the signal strength at specific cycles (20, and every 40 after that)\n",
    "    signal = 0\n",
    "    i = 20\n",
    "    while i < 230:\n",
    "        signal += i*xvals[i-1]\n",
    "        if samp and 0:\n",
    "            print(\"Int: \", i, xvals[i], i*xvals[i])\n",
    "        i += 40\n",
    "    \n",
    "    # Part two:\n",
    "    # print the CRT\n",
    "    i = 0\n",
    "    line = \"\"\n",
    "    while i < len(xvals):\n",
    "        x = xvals[i]\n",
    "        if (abs(x - i%40)) < 2:\n",
    "            # x on top of i plusminus 1\n",
    "            line += \"#\"\n",
    "        else:\n",
    "            line += \" \"\n",
    "        i += 1\n",
    "        # new line:\n",
    "        if i % 40 == 0:\n",
    "            print(line)\n",
    "            line = \"\"\n",
    "    \n",
    "    return signal, \"PLGFKAZG\"\n",
    "part_two(t)"
   ]
  },
  {
   "cell_type": "markdown",
   "id": "52366ae7-ceec-409e-b637-0e61036c962f",
   "metadata": {},
   "source": [
    "## Run the programs"
   ]
  },
  {
   "cell_type": "code",
   "execution_count": 7,
   "id": "e7c79c46-6c97-4a27-92c3-cf2c5a54a320",
   "metadata": {},
   "outputs": [
    {
     "name": "stdout",
     "output_type": "stream",
     "text": [
      "Part 1:  15880\n",
      "###  #     ##  #### #  #  ##  ####  ##  \n",
      "#  # #    #  # #    # #  #  #    # #  # \n",
      "#  # #    #    ###  ##   #  #   #  #    \n",
      "###  #    # ## #    # #  ####  #   # ## \n",
      "#    #    #  # #    # #  #  # #    #  # \n",
      "#    ####  ### #    #  # #  # ####  ### \n",
      "Part 2:  (15880, 'PLGFKAZG')\n",
      "Elapsed time: 0.0007 s\n"
     ]
    }
   ],
   "source": [
    "if 1:\n",
    "    time0 = time.time()\n",
    "    if part == 1:\n",
    "        print(\"Part 1: \", part_one(t))\n",
    "    elif part == 2:\n",
    "        print(\"Part 2: \", part_two(t))\n",
    "    elif part == 3:\n",
    "        #run both\n",
    "        print(\"Part 1: \", part_one(t))\n",
    "        print(\"Part 2: \", part_two(t))\n",
    "    tdif = time.time() - time0\n",
    "    print(\"Elapsed time: {:.4f} s\".format(tdif))"
   ]
  }
 ],
 "metadata": {
  "kernelspec": {
   "display_name": "Python 3 (ipykernel)",
   "language": "python",
   "name": "python3"
  },
  "language_info": {
   "codemirror_mode": {
    "name": "ipython",
    "version": 3
   },
   "file_extension": ".py",
   "mimetype": "text/x-python",
   "name": "python",
   "nbconvert_exporter": "python",
   "pygments_lexer": "ipython3",
   "version": "3.9.2"
  }
 },
 "nbformat": 4,
 "nbformat_minor": 5
}
