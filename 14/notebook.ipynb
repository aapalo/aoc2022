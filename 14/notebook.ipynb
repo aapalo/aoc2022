{
 "cells": [
  {
   "cell_type": "code",
   "execution_count": 1,
   "id": "0959b566-c31a-4cf9-aa16-da1d71f21a52",
   "metadata": {},
   "outputs": [],
   "source": [
    "#!/usr/bin/python3"
   ]
  },
  {
   "cell_type": "code",
   "execution_count": 2,
   "id": "cb88d538-8fc9-46c7-8140-4675c3a6ceb1",
   "metadata": {},
   "outputs": [],
   "source": [
    "#from collections import Counter\n",
    "#import re\n",
    "#import os\n",
    "import time\n",
    "from collections import defaultdict\n",
    "#from collections import deque"
   ]
  },
  {
   "cell_type": "code",
   "execution_count": 3,
   "id": "f55b7992-aa00-49bd-8321-64bbd778e15e",
   "metadata": {},
   "outputs": [
    {
     "name": "stdout",
     "output_type": "stream",
     "text": [
      "https://adventofcode.com/2022/day/14\n"
     ]
    }
   ],
   "source": [
    "date = 14\n",
    "dev = 0 # extra prints\n",
    "part = 3 # 1,2, or 3 for both\n",
    "# 0 or 1:\n",
    "samp = 1\n",
    "print(\"https://adventofcode.com/2022/day/{}\".format(date))"
   ]
  },
  {
   "cell_type": "markdown",
   "id": "88404eb8-4034-4bdd-9dae-86e31d39efba",
   "metadata": {
    "tags": []
   },
   "source": [
    "## Read the input data "
   ]
  },
  {
   "cell_type": "code",
   "execution_count": 4,
   "id": "95c6dda8-9ebf-4edc-bfc1-078ba6b51e32",
   "metadata": {},
   "outputs": [
    {
     "name": "stdout",
     "output_type": "stream",
     "text": [
      "2\n"
     ]
    }
   ],
   "source": [
    "#time0 = time.time()\n",
    "\n",
    "if samp == 1:\n",
    "    filename = \"/sample.txt\"\n",
    "else:\n",
    "    filename = \"/input.txt\"\n",
    "try:\n",
    "    with open(str(date) + filename,\"r\") as f:\n",
    "        t = f.readlines()\n",
    "except FileNotFoundError:\n",
    "    with open(\".\" + filename,\"r\") as f:\n",
    "        t = f.readlines()\n",
    "\n",
    "t = [(x.strip().replace('  ',' ')) for x in t]\n",
    "#t = [int(x) for x in t]\n",
    "print(len(t))"
   ]
  },
  {
   "cell_type": "markdown",
   "id": "e4a219ce-1941-48f2-9b11-4717581c82c9",
   "metadata": {},
   "source": [
    "## Part one"
   ]
  },
  {
   "cell_type": "code",
   "execution_count": 5,
   "id": "9676ebb6-f9f9-42d2-8ce2-ba650df1d45a",
   "metadata": {},
   "outputs": [
    {
     "name": "stdout",
     "output_type": "stream",
     "text": [
      "...............+..............\n",
      "..............................\n",
      "..............................\n",
      "..............................\n",
      ".............#...##...........\n",
      ".............#...#............\n",
      "...........###...#............\n",
      ".................#............\n",
      "..............oo.#............\n",
      ".........#########............\n",
      "..............................\n",
      "..............................\n"
     ]
    },
    {
     "data": {
      "text/plain": [
       "1"
      ]
     },
     "execution_count": 5,
     "metadata": {},
     "output_type": "execute_result"
    }
   ],
   "source": [
    "def print_sand(rocks, sands):\n",
    "    d = defaultdict(list)\n",
    "    for x in range(485,515):\n",
    "        d[x] = [\".\"] * 12\n",
    "        for y in range(0,12):\n",
    "            if (x + y*1j) in sands:\n",
    "                d[x][y] = \"o\"\n",
    "            if (x + y*1j) in rocks:\n",
    "                d[x][y] = \"#\"\n",
    "    d[500][0] = \"+\"\n",
    "    for y in range (12):\n",
    "        line = \"\"\n",
    "        for x in range(485,515):\n",
    "            line += d[x][y]\n",
    "        print(line)\n",
    "        \n",
    "    return 1\n",
    "rock = set({(496+6j), (497+6j), (498+6j), (502+4j), (503+4j), (502+6j), (502+8j), (498+5j), (502+5j), (494+9j), (495+9j), (502+7j), (496+9j), (497+9j), (498+9j), (499+9j), (500+9j), (502+9j), (501+9j), (498+4j)})\n",
    "sand = set({(500+8j), (499+8j)})\n",
    "print_sand(rock, sand)"
   ]
  },
  {
   "cell_type": "code",
   "execution_count": 6,
   "id": "72b8f11d-18f0-4f2e-9438-75aff4b78bc1",
   "metadata": {
    "tags": []
   },
   "outputs": [
    {
     "name": "stdout",
     "output_type": "stream",
     "text": [
      "9\n",
      "20 {(496+6j), (497+6j), (498+6j), (502+4j), (503+4j), (502+6j), (502+8j), (498+5j), (502+5j), (494+9j), (495+9j), (502+7j), (496+9j), (497+9j), (498+9j), (499+9j), (500+9j), (502+9j), (501+9j), (498+4j)}\n",
      "Abyss\n",
      "...............+..............\n",
      "..............................\n",
      "...............o..............\n",
      "..............ooo.............\n",
      ".............#ooo##...........\n",
      "............o#ooo#............\n",
      "...........###ooo#............\n",
      ".............oooo#............\n",
      "..........o.ooooo#............\n",
      ".........#########............\n",
      "..............................\n",
      "..............................\n"
     ]
    },
    {
     "data": {
      "text/plain": [
       "24"
      ]
     },
     "execution_count": 6,
     "metadata": {},
     "output_type": "execute_result"
    }
   ],
   "source": [
    "def part_one(te):\n",
    "    h = set() #hard rocks (and sand)\n",
    "    ab = 1 #abyss\n",
    "    for q in te:\n",
    "        coords = []\n",
    "        for w in q.strip().split(\" -> \"):\n",
    "            w = w.split(\",\")\n",
    "            w[0] = int(w[0])\n",
    "            w[1] = int(w[1])\n",
    "            coords.append(w)\n",
    "        for i in range(len(coords)-1):\n",
    "            px = sorted([coords[i][0], coords[i+1][0]])\n",
    "            py = sorted([coords[i][1], coords[i+1][1]])\n",
    "            #print(coords[i], coords[i+1], \"--- \", px, py)\n",
    "            ab = max(ab, py[1])\n",
    "            for x in range(px[0], px[1]+1):\n",
    "                for y in range(py[0], py[1]+1):\n",
    "                    h.add(x + y*1j) #add coord as complex number to hard rocks\n",
    "    \n",
    "    if samp:\n",
    "        print(ab)\n",
    "        print(len(h), h)\n",
    "    \n",
    "    rcks = h.copy()\n",
    "    s = 0\n",
    "    while True:\n",
    "        p = 500 # # sand falls from 500,0 -> 500+0j -> 500\n",
    "        while True:\n",
    "            # sand fell into the abyss\n",
    "            if p.imag > ab:\n",
    "                print(\"Abyss\")\n",
    "                if samp:\n",
    "                    print_sand(rcks, h)\n",
    "                return(s)\n",
    "            # fall 1 point if the below slot is free\n",
    "            elif p + 1j not in h:\n",
    "                p += 1j\n",
    "            # else fall down and left if free\n",
    "            elif p + (-1 + 1j) not in h:\n",
    "                p += -1 + 1j\n",
    "            # else fall down and right if free\n",
    "            elif p + (1+1j) not in h:\n",
    "                p += 1 + 1j\n",
    "            # no free spaces -> stay put, add sand to occupied slots, ++sand count\n",
    "            else:\n",
    "                h.add(p)\n",
    "                s += 1\n",
    "                if s % 5 == 0 and 0:\n",
    "                    print_sand(rcks, h)\n",
    "                break\n",
    "    \n",
    "    return s\n",
    "part_one(t)"
   ]
  },
  {
   "cell_type": "markdown",
   "id": "99b4800a-d2b1-4fb8-a6fb-af8b8d5f80cb",
   "metadata": {},
   "source": [
    "## Part two"
   ]
  },
  {
   "cell_type": "code",
   "execution_count": 7,
   "id": "aa19182a-5969-4229-9b5c-8630a4e51d53",
   "metadata": {
    "tags": []
   },
   "outputs": [
    {
     "name": "stdout",
     "output_type": "stream",
     "text": [
      "9\n",
      "20 {(496+6j), (497+6j), (498+6j), (502+4j), (503+4j), (502+6j), (502+8j), (498+5j), (502+5j), (494+9j), (495+9j), (502+7j), (496+9j), (497+9j), (498+9j), (499+9j), (500+9j), (502+9j), (501+9j), (498+4j)}\n",
      "...............+..............\n",
      "..............................\n",
      "...............o..............\n",
      "..............ooo.............\n",
      ".............#ooo##...........\n",
      "............o#ooo#............\n",
      "...........###ooo#............\n",
      ".............oooo#............\n",
      "..........o.ooooo#............\n",
      ".........#########............\n",
      "........o.....................\n",
      "..............................\n",
      "...............+..............\n",
      "..............oo..............\n",
      ".............oooo.............\n",
      "............oooooo............\n",
      "...........oo#ooo##...........\n",
      "..........ooo#ooo#............\n",
      ".........oo###ooo#............\n",
      "........oooo.oooo#............\n",
      ".......oooooooooo#............\n",
      "......ooo#########............\n",
      ".....ooooo.........o..........\n",
      "..............................\n",
      "...............+..............\n",
      "..............oo..............\n",
      ".............oooo.............\n",
      "............oooooo............\n",
      "...........oo#ooo##...........\n",
      "..........ooo#ooo#............\n",
      ".........oo###ooo#............\n",
      "........oooo.oooo#............\n",
      ".......oooooooooo#............\n",
      "......ooo#########oo..........\n",
      ".....ooooo.......oooo.........\n",
      "..............................\n",
      "...............+..............\n",
      "..............oo..............\n",
      ".............oooo.............\n",
      "............oooooo............\n",
      "...........oo#ooo##...........\n",
      "..........ooo#ooo#............\n",
      ".........oo###ooo#oo..........\n",
      "........oooo.oooo#ooo.........\n",
      ".......oooooooooo#oooo........\n",
      "......ooo#########ooooo.......\n",
      ".....ooooo.......ooooooo......\n",
      "..............................\n"
     ]
    },
    {
     "data": {
      "text/plain": [
       "93"
      ]
     },
     "execution_count": 7,
     "metadata": {},
     "output_type": "execute_result"
    }
   ],
   "source": [
    "def part_two(te):\n",
    "    h = set() #hard rocks (and sand)\n",
    "    ab = 1 #abyss\n",
    "    for q in te:\n",
    "        coords = []\n",
    "        for w in q.strip().split(\" -> \"):\n",
    "            w = w.split(\",\")\n",
    "            w[0] = int(w[0])\n",
    "            w[1] = int(w[1])\n",
    "            coords.append(w)\n",
    "        for i in range(len(coords)-1):\n",
    "            px = sorted([coords[i][0], coords[i+1][0]])\n",
    "            py = sorted([coords[i][1], coords[i+1][1]])\n",
    "            #print(coords[i], coords[i+1], \"--- \", px, py)\n",
    "            ab = max(ab, py[1])\n",
    "            for x in range(px[0], px[1]+1):\n",
    "                for y in range(py[0], py[1]+1):\n",
    "                    h.add(x + y*1j) #add coord as complex number to hard rocks\n",
    "    \n",
    "    if samp:\n",
    "        print(ab)\n",
    "        print(len(h), h)\n",
    "    \n",
    "    rcks = h.copy()\n",
    "    s = 0\n",
    "    # loop until origin is added to taken slots\n",
    "    while 500 not in h:\n",
    "        p = 500 # sand falls from 500,0 -> 500+0j -> 500\n",
    "        while True:\n",
    "            # abyss wall\n",
    "            if p.imag > ab:\n",
    "                if s % 5 == 0 and samp:\n",
    "                    print_sand(rcks, h)\n",
    "                break\n",
    "            # fall 1 point if the below slot is free\n",
    "            if p + 1j not in h:\n",
    "                p += 1j\n",
    "                continue\n",
    "            # else fall down and left if free\n",
    "            if p + (-1 + 1j) not in h:\n",
    "                p += -1 + 1j\n",
    "                continue\n",
    "            # else fall down and right if free\n",
    "            if p + (1+1j) not in h:\n",
    "                p += 1 + 1j\n",
    "                continue\n",
    "            # come to rest\n",
    "            break\n",
    "        h.add(p)\n",
    "        s += 1\n",
    "    \n",
    "    return s\n",
    "part_two(t)"
   ]
  },
  {
   "cell_type": "markdown",
   "id": "52366ae7-ceec-409e-b637-0e61036c962f",
   "metadata": {},
   "source": [
    "## Run the programs"
   ]
  },
  {
   "cell_type": "code",
   "execution_count": 8,
   "id": "e7c79c46-6c97-4a27-92c3-cf2c5a54a320",
   "metadata": {},
   "outputs": [
    {
     "name": "stdout",
     "output_type": "stream",
     "text": [
      "9\n",
      "20 {(496+6j), (497+6j), (498+6j), (502+4j), (503+4j), (502+6j), (502+8j), (498+5j), (502+5j), (494+9j), (495+9j), (502+7j), (496+9j), (497+9j), (498+9j), (499+9j), (500+9j), (502+9j), (501+9j), (498+4j)}\n",
      "Abyss\n",
      "...............+..............\n",
      "..............................\n",
      "...............o..............\n",
      "..............ooo.............\n",
      ".............#ooo##...........\n",
      "............o#ooo#............\n",
      "...........###ooo#............\n",
      ".............oooo#............\n",
      "..........o.ooooo#............\n",
      ".........#########............\n",
      "..............................\n",
      "..............................\n",
      "Part 1:  24\n",
      "9\n",
      "20 {(496+6j), (497+6j), (498+6j), (502+4j), (503+4j), (502+6j), (502+8j), (498+5j), (502+5j), (494+9j), (495+9j), (502+7j), (496+9j), (497+9j), (498+9j), (499+9j), (500+9j), (502+9j), (501+9j), (498+4j)}\n",
      "...............+..............\n",
      "..............................\n",
      "...............o..............\n",
      "..............ooo.............\n",
      ".............#ooo##...........\n",
      "............o#ooo#............\n",
      "...........###ooo#............\n",
      ".............oooo#............\n",
      "..........o.ooooo#............\n",
      ".........#########............\n",
      "........o.....................\n",
      "..............................\n",
      "...............+..............\n",
      "..............oo..............\n",
      ".............oooo.............\n",
      "............oooooo............\n",
      "...........oo#ooo##...........\n",
      "..........ooo#ooo#............\n",
      ".........oo###ooo#............\n",
      "........oooo.oooo#............\n",
      ".......oooooooooo#............\n",
      "......ooo#########............\n",
      ".....ooooo.........o..........\n",
      "..............................\n",
      "...............+..............\n",
      "..............oo..............\n",
      ".............oooo.............\n",
      "............oooooo............\n",
      "...........oo#ooo##...........\n",
      "..........ooo#ooo#............\n",
      ".........oo###ooo#............\n",
      "........oooo.oooo#............\n",
      ".......oooooooooo#............\n",
      "......ooo#########oo..........\n",
      ".....ooooo.......oooo.........\n",
      "..............................\n",
      "...............+..............\n",
      "..............oo..............\n",
      ".............oooo.............\n",
      "............oooooo............\n",
      "...........oo#ooo##...........\n",
      "..........ooo#ooo#............\n",
      ".........oo###ooo#oo..........\n",
      "........oooo.oooo#ooo.........\n",
      ".......oooooooooo#oooo........\n",
      "......ooo#########ooooo.......\n",
      ".....ooooo.......ooooooo......\n",
      "..............................\n",
      "Part 2:  93\n",
      "Elapsed time: 0.0154 s\n"
     ]
    }
   ],
   "source": [
    "if 1:\n",
    "    time0 = time.time()\n",
    "    if part == 1:\n",
    "        print(\"Part 1: \", part_one(t))\n",
    "    elif part == 2:\n",
    "        print(\"Part 2: \", part_two(t))\n",
    "    elif part == 3:\n",
    "        #run both\n",
    "        print(\"Part 1: \", part_one(t))\n",
    "        print(\"Part 2: \", part_two(t))\n",
    "    tdif = time.time() - time0\n",
    "    print(\"Elapsed time: {:.4f} s\".format(tdif))"
   ]
  }
 ],
 "metadata": {
  "kernelspec": {
   "display_name": "Python 3 (ipykernel)",
   "language": "python",
   "name": "python3"
  },
  "language_info": {
   "codemirror_mode": {
    "name": "ipython",
    "version": 3
   },
   "file_extension": ".py",
   "mimetype": "text/x-python",
   "name": "python",
   "nbconvert_exporter": "python",
   "pygments_lexer": "ipython3",
   "version": "3.9.2"
  }
 },
 "nbformat": 4,
 "nbformat_minor": 5
}
