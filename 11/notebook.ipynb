{
 "cells": [
  {
   "cell_type": "code",
   "execution_count": 1,
   "id": "0959b566-c31a-4cf9-aa16-da1d71f21a52",
   "metadata": {},
   "outputs": [],
   "source": [
    "#!/usr/bin/python3"
   ]
  },
  {
   "cell_type": "code",
   "execution_count": 2,
   "id": "cb88d538-8fc9-46c7-8140-4675c3a6ceb1",
   "metadata": {},
   "outputs": [],
   "source": [
    "#from collections import Counter\n",
    "#import re\n",
    "#import os\n",
    "import time\n",
    "#from collections import defaultdict\n",
    "#from collections import deque"
   ]
  },
  {
   "cell_type": "code",
   "execution_count": 3,
   "id": "f55b7992-aa00-49bd-8321-64bbd778e15e",
   "metadata": {},
   "outputs": [
    {
     "name": "stdout",
     "output_type": "stream",
     "text": [
      "https://adventofcode.com/2022/day/11\n"
     ]
    }
   ],
   "source": [
    "date = 11\n",
    "dev = 0 # extra prints\n",
    "part = 3 # 1,2, or 3 for both\n",
    "# 0 or 1:\n",
    "samp = 0\n",
    "print(\"https://adventofcode.com/2022/day/{}\".format(date))"
   ]
  },
  {
   "cell_type": "markdown",
   "id": "88404eb8-4034-4bdd-9dae-86e31d39efba",
   "metadata": {
    "tags": []
   },
   "source": [
    "## Read the input data "
   ]
  },
  {
   "cell_type": "code",
   "execution_count": 4,
   "id": "95c6dda8-9ebf-4edc-bfc1-078ba6b51e32",
   "metadata": {},
   "outputs": [
    {
     "name": "stdout",
     "output_type": "stream",
     "text": [
      "55\n"
     ]
    }
   ],
   "source": [
    "#time0 = time.time()\n",
    "\n",
    "if samp == 1:\n",
    "    filename = \"/sample.txt\"\n",
    "else:\n",
    "    filename = \"/input.txt\"\n",
    "try:\n",
    "    with open(str(date) + filename,\"r\") as f:\n",
    "        t = f.readlines()\n",
    "except FileNotFoundError:\n",
    "    with open(\".\" + filename,\"r\") as f:\n",
    "        t = f.readlines()\n",
    "\n",
    "t = [(x.strip().replace('  ',' ')) for x in t]\n",
    "#t = [int(x) for x in t]\n",
    "print(len(t))"
   ]
  },
  {
   "cell_type": "markdown",
   "id": "e4a219ce-1941-48f2-9b11-4717581c82c9",
   "metadata": {},
   "source": [
    "## Monkey class"
   ]
  },
  {
   "cell_type": "code",
   "execution_count": 5,
   "id": "9676ebb6-f9f9-42d2-8ce2-ba650df1d45a",
   "metadata": {},
   "outputs": [],
   "source": [
    "class Monkey:\n",
    "    def __init__(self, id):\n",
    "        self.id = id\n",
    "        self.inspections = 0\n",
    "        self.items = []\n",
    "        self.divider = 0\n",
    "        self.op = 3 # operation: 0 mul, 1 add, 2 old*old\n",
    "        self.op_n = 0 # number to multiply/add, 0 for old*old\n",
    "        self.throw_false = -1\n",
    "        self.throw_true = -1\n",
    "        \n",
    "    def add_item(self, item):\n",
    "        self.items.append(item)\n",
    "        \n",
    "    def add_inspection(self, n):\n",
    "        self.inspections += n\n",
    "        \n",
    "    def clear_items(self):\n",
    "        self.items = []\n",
    "        \n",
    "    def set_divider(self, n):\n",
    "        self.divider = n\n",
    "        \n",
    "    def set_op(self, n):\n",
    "        self.op = n\n",
    "        \n",
    "    def set_op_n(self, n):\n",
    "        self.op_n = n\n",
    "        \n",
    "    def set_throw_false(self, n):\n",
    "        self.throw_false = n\n",
    "        \n",
    "    def set_throw_true(self, n):\n",
    "        self.throw_true = n\n",
    "    \n",
    "    def get_info(self):\n",
    "        return (\"Monkey {}, ins {}, throw {} / {}, operation {}, op_n {},\\t items {}\".format(self.id, self.inspections, \n",
    "            self.throw_true, self.throw_false,\n",
    "            self.op, self.op_n, self.items))"
   ]
  },
  {
   "cell_type": "markdown",
   "id": "99b4800a-d2b1-4fb8-a6fb-af8b8d5f80cb",
   "metadata": {},
   "source": [
    "## Solve"
   ]
  },
  {
   "cell_type": "code",
   "execution_count": 6,
   "id": "aa19182a-5969-4229-9b5c-8630a4e51d53",
   "metadata": {
    "tags": []
   },
   "outputs": [],
   "source": [
    "def solve(te, p):\n",
    "    rc = 0\n",
    "    monkeys = {}\n",
    "    bigmod = 1\n",
    "    for m in te:\n",
    "        m = m.split(\" \")\n",
    "        if m[0] == \"\":\n",
    "            rc = 0\n",
    "            continue\n",
    "        if rc == 0:\n",
    "            monkey_id = int(m[1].replace(\":\",\"\"))\n",
    "            monkeys[monkey_id] = Monkey(monkey_id)\n",
    "        elif rc == 1:\n",
    "            #monkey_items = []\n",
    "            for i in m[2:]:\n",
    "                #monkey_items.append(int(i.replace(\",\",\"\")))\n",
    "                monkeys[monkey_id].add_item(int(i.replace(\",\",\"\")))\n",
    "        elif rc == 2:\n",
    "            # operation: 0 mul, 1 add, 2 old*old\n",
    "            if m[4] == \"*\":\n",
    "                if m[-1] == \"old\":\n",
    "                    monkeys[monkey_id].set_op(2)\n",
    "                else:\n",
    "                    monkeys[monkey_id].set_op(0)\n",
    "                    monkeys[monkey_id].set_op_n(int(m[-1]))\n",
    "            elif m[4] == \"+\":\n",
    "                monkeys[monkey_id].set_op(1)\n",
    "                monkeys[monkey_id].set_op_n(int(m[-1]))\n",
    "            \n",
    "        elif rc == 3:\n",
    "            monkeys[monkey_id].set_divider(int(m[-1]))\n",
    "            bigmod *= int(m[-1])\n",
    "        elif rc == 4:\n",
    "            #print(\"TODO: \", rc, m)\n",
    "            monkeys[monkey_id].set_throw_true(int(m[-1]))\n",
    "        elif rc == 5:\n",
    "            #print(\"TODO: \", rc, m)\n",
    "            monkeys[monkey_id].set_throw_false(int(m[-1]))\n",
    "        rc += 1\n",
    "    if samp:\n",
    "        for k in monkeys.keys():\n",
    "            print(monkeys[k].get_info())\n",
    "        print(bigmod)\n",
    "    \n",
    "    # 20 / 10k rounds of stuff-slinging simian shenanigans:\n",
    "    if p == 1:\n",
    "        rounds = 20\n",
    "    else:\n",
    "        rounds = 10000\n",
    "    for i in range(rounds):\n",
    "        for k in monkeys.keys():\n",
    "            stuff = monkeys[k].items\n",
    "            for s in stuff:\n",
    "                # inspect item\n",
    "                monkeys[k].add_inspection(1)\n",
    "                \n",
    "                #change worry level (operation: 0 mul, 1 add, 2 old*old)\n",
    "                if monkeys[k].op == 0:\n",
    "                    wl = s * monkeys[k].op_n\n",
    "                elif monkeys[k].op == 1:\n",
    "                    wl = s + monkeys[k].op_n\n",
    "                elif monkeys[k].op == 2:\n",
    "                    wl = s * s\n",
    "                \n",
    "                if p == 1:\n",
    "                    # relief: divide by 3, round down to int\n",
    "                    wl = int(wl/3)\n",
    "                \n",
    "                #check if divisible, decide throw target\n",
    "                if (wl % monkeys[k].divider == 0):\n",
    "                    to_monkey = monkeys[k].throw_true\n",
    "                else:\n",
    "                    to_monkey = monkeys[k].throw_false\n",
    "                wl = wl % bigmod\n",
    "                \n",
    "                #throw to the next monkey\n",
    "                monkeys[to_monkey].add_item(wl)\n",
    "            monkeys[k].clear_items()\n",
    "        if samp and 0:\n",
    "            print(\"\\t After {} rounds:\".format(i+1))\n",
    "            for k in monkeys.keys():\n",
    "                print(monkeys[k].get_info())\n",
    "    mb = []\n",
    "    if samp:\n",
    "        print(\"\\t Eventually:\".format(i+1))\n",
    "    for k in monkeys.keys():\n",
    "        if samp:\n",
    "            print(monkeys[k].get_info())\n",
    "        mb.append(monkeys[k].inspections)\n",
    "    #print(mb, sorted(mb), sorted(mb)[-2:], sorted(mb)[-2]*sorted(mb)[-1])\n",
    "\n",
    "    return sorted(mb)[-2]*sorted(mb)[-1]\n",
    "#solve(t,2) # 55944"
   ]
  },
  {
   "cell_type": "markdown",
   "id": "52366ae7-ceec-409e-b637-0e61036c962f",
   "metadata": {},
   "source": [
    "## Run the programs"
   ]
  },
  {
   "cell_type": "code",
   "execution_count": 7,
   "id": "e7c79c46-6c97-4a27-92c3-cf2c5a54a320",
   "metadata": {},
   "outputs": [
    {
     "name": "stdout",
     "output_type": "stream",
     "text": [
      "Part 1:  55944\n",
      "Part 2:  15117269860\n",
      "Elapsed time: 0.6078 s\n"
     ]
    }
   ],
   "source": [
    "if 1:\n",
    "    time0 = time.time()\n",
    "    if part == 1:\n",
    "        print(\"Part 1: \", solve(t,1))\n",
    "    elif part == 2:\n",
    "        print(\"Part 2: \", solve(t,2))\n",
    "    elif part == 3:\n",
    "        #run both\n",
    "        print(\"Part 1: \", solve(t,1))\n",
    "        print(\"Part 2: \", solve(t,2))\n",
    "    tdif = time.time() - time0\n",
    "    print(\"Elapsed time: {:.4f} s\".format(tdif))"
   ]
  }
 ],
 "metadata": {
  "kernelspec": {
   "display_name": "Python 3 (ipykernel)",
   "language": "python",
   "name": "python3"
  },
  "language_info": {
   "codemirror_mode": {
    "name": "ipython",
    "version": 3
   },
   "file_extension": ".py",
   "mimetype": "text/x-python",
   "name": "python",
   "nbconvert_exporter": "python",
   "pygments_lexer": "ipython3",
   "version": "3.9.2"
  }
 },
 "nbformat": 4,
 "nbformat_minor": 5
}
